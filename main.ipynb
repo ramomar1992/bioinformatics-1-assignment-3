{
 "cells": [
  {
   "cell_type": "code",
   "execution_count": 1,
   "metadata": {},
   "outputs": [],
   "source": [
    "import pandas as pd\n",
    "import numpy as np\n",
    "import matplotlib.pyplot as plt\n",
    "from dataset.dataset import get_formated_data_frames\n",
    "from sklearn.decomposition import PCA\n",
    "from sklearn.preprocessing import StandardScaler, LabelEncoder"
   ]
  },
  {
   "cell_type": "code",
   "execution_count": 2,
   "metadata": {},
   "outputs": [
    {
     "name": "stderr",
     "output_type": "stream",
     "text": [
      "21-Apr-2022 14:48:14 DEBUG utils - Directory ./ already exists. Skipping.\n",
      "21-Apr-2022 14:48:14 INFO GEOparse - File already exist: using local version.\n",
      "21-Apr-2022 14:48:14 INFO GEOparse - Parsing ./GSE22552_family.soft.gz: \n",
      "21-Apr-2022 14:48:14 DEBUG GEOparse - DATABASE: GeoMiame\n",
      "21-Apr-2022 14:48:14 DEBUG GEOparse - SERIES: GSE22552\n",
      "21-Apr-2022 14:48:14 DEBUG GEOparse - PLATFORM: GPL570\n",
      "/Library/Frameworks/Python.framework/Versions/3.10/lib/python3.10/site-packages/GEOparse/GEOparse.py:401: DtypeWarning: Columns (2) have mixed types. Specify dtype option on import or set low_memory=False.\n",
      "  return read_csv(StringIO(data), index_col=None, sep=\"\\t\")\n",
      "21-Apr-2022 14:48:15 DEBUG GEOparse - SAMPLE: GSM559689\n",
      "21-Apr-2022 14:48:15 DEBUG GEOparse - SAMPLE: GSM559690\n",
      "21-Apr-2022 14:48:15 DEBUG GEOparse - SAMPLE: GSM559691\n",
      "21-Apr-2022 14:48:15 DEBUG GEOparse - SAMPLE: GSM559692\n",
      "21-Apr-2022 14:48:15 DEBUG GEOparse - SAMPLE: GSM559693\n",
      "21-Apr-2022 14:48:15 DEBUG GEOparse - SAMPLE: GSM559694\n",
      "21-Apr-2022 14:48:15 DEBUG GEOparse - SAMPLE: GSM559695\n",
      "21-Apr-2022 14:48:15 DEBUG GEOparse - SAMPLE: GSM559696\n",
      "21-Apr-2022 14:48:15 DEBUG GEOparse - SAMPLE: GSM559697\n",
      "21-Apr-2022 14:48:15 DEBUG GEOparse - SAMPLE: GSM559698\n",
      "21-Apr-2022 14:48:15 DEBUG GEOparse - SAMPLE: GSM559699\n",
      "21-Apr-2022 14:48:15 DEBUG GEOparse - SAMPLE: GSM559700\n",
      "21-Apr-2022 14:48:16 DEBUG GEOparse - SAMPLE: GSM559701\n",
      "21-Apr-2022 14:48:16 DEBUG GEOparse - SAMPLE: GSM559702\n",
      "21-Apr-2022 14:48:16 DEBUG GEOparse - SAMPLE: GSM559703\n",
      "21-Apr-2022 14:48:16 DEBUG GEOparse - SAMPLE: GSM559704\n"
     ]
    }
   ],
   "source": [
    "formated_data_frame = get_formated_data_frames()"
   ]
  },
  {
   "cell_type": "code",
   "execution_count": 3,
   "metadata": {},
   "outputs": [],
   "source": [
    "# Task 1:\n",
    "# a. Log-transformation if needed; is it needed?\n",
    "# b. Imputation of missing values using mean values if needed; is it needed?\n",
    "# c. Quantile normalisation to remove batch effect\n",
    "# d. Summarise probes that are linked to the same gene by using the median; i.e. when multiple rows have the same gene label, make them a single row for that gene"
   ]
  },
  {
   "cell_type": "markdown",
   "metadata": {},
   "source": [
    "a. Log transformation is not needed since NCBI already provides the data log-transformed."
   ]
  },
  {
   "cell_type": "code",
   "execution_count": 4,
   "metadata": {},
   "outputs": [
    {
     "data": {
      "text/html": [
       "<div>\n",
       "<style scoped>\n",
       "    .dataframe tbody tr th:only-of-type {\n",
       "        vertical-align: middle;\n",
       "    }\n",
       "\n",
       "    .dataframe tbody tr th {\n",
       "        vertical-align: top;\n",
       "    }\n",
       "\n",
       "    .dataframe thead th {\n",
       "        text-align: right;\n",
       "    }\n",
       "</style>\n",
       "<table border=\"1\" class=\"dataframe\">\n",
       "  <thead>\n",
       "    <tr style=\"text-align: right;\">\n",
       "      <th></th>\n",
       "      <th></th>\n",
       "      <th></th>\n",
       "      <th>CFU</th>\n",
       "      <th>Int</th>\n",
       "      <th>Late</th>\n",
       "      <th>Pro</th>\n",
       "    </tr>\n",
       "    <tr>\n",
       "      <th>ID_REF</th>\n",
       "      <th>Gene Symbol</th>\n",
       "      <th>ENTREZ_GENE_ID</th>\n",
       "      <th></th>\n",
       "      <th></th>\n",
       "      <th></th>\n",
       "      <th></th>\n",
       "    </tr>\n",
       "  </thead>\n",
       "  <tbody>\n",
       "    <tr>\n",
       "      <th>1053_at</th>\n",
       "      <th>RFC2</th>\n",
       "      <th>5982</th>\n",
       "      <td>8.428814</td>\n",
       "      <td>7.797399</td>\n",
       "      <td>5.268096</td>\n",
       "      <td>8.394127</td>\n",
       "    </tr>\n",
       "    <tr>\n",
       "      <th>117_at</th>\n",
       "      <th>HSPA6</th>\n",
       "      <th>3310</th>\n",
       "      <td>5.838414</td>\n",
       "      <td>7.065860</td>\n",
       "      <td>7.910083</td>\n",
       "      <td>5.830218</td>\n",
       "    </tr>\n",
       "    <tr>\n",
       "      <th>121_at</th>\n",
       "      <th>PAX8</th>\n",
       "      <th>7849</th>\n",
       "      <td>7.183569</td>\n",
       "      <td>7.252154</td>\n",
       "      <td>7.770219</td>\n",
       "      <td>7.194605</td>\n",
       "    </tr>\n",
       "    <tr>\n",
       "      <th>1294_at</th>\n",
       "      <th>MIR5193</th>\n",
       "      <th>7318</th>\n",
       "      <td>7.133072</td>\n",
       "      <td>7.409423</td>\n",
       "      <td>6.497654</td>\n",
       "      <td>7.062021</td>\n",
       "    </tr>\n",
       "    <tr>\n",
       "      <th>1316_at</th>\n",
       "      <th>THRA</th>\n",
       "      <th>7067</th>\n",
       "      <td>6.677613</td>\n",
       "      <td>7.086486</td>\n",
       "      <td>8.047467</td>\n",
       "      <td>6.581211</td>\n",
       "    </tr>\n",
       "    <tr>\n",
       "      <th>...</th>\n",
       "      <th>...</th>\n",
       "      <th>...</th>\n",
       "      <td>...</td>\n",
       "      <td>...</td>\n",
       "      <td>...</td>\n",
       "      <td>...</td>\n",
       "    </tr>\n",
       "    <tr>\n",
       "      <th>AFFX-r2-P1-cre-3_at</th>\n",
       "      <th>nan</th>\n",
       "      <th>nan</th>\n",
       "      <td>13.110768</td>\n",
       "      <td>13.299282</td>\n",
       "      <td>13.267779</td>\n",
       "      <td>13.086157</td>\n",
       "    </tr>\n",
       "    <tr>\n",
       "      <th>AFFX-r2-P1-cre-5_at</th>\n",
       "      <th>nan</th>\n",
       "      <th>nan</th>\n",
       "      <td>13.181870</td>\n",
       "      <td>13.327134</td>\n",
       "      <td>13.316122</td>\n",
       "      <td>13.141793</td>\n",
       "    </tr>\n",
       "    <tr>\n",
       "      <th>AFFX-ThrX-3_at</th>\n",
       "      <th>nan</th>\n",
       "      <th>nan</th>\n",
       "      <td>9.058028</td>\n",
       "      <td>9.545793</td>\n",
       "      <td>10.357162</td>\n",
       "      <td>8.886965</td>\n",
       "    </tr>\n",
       "    <tr>\n",
       "      <th>AFFX-ThrX-5_at</th>\n",
       "      <th>nan</th>\n",
       "      <th>nan</th>\n",
       "      <td>5.513117</td>\n",
       "      <td>5.860369</td>\n",
       "      <td>6.423776</td>\n",
       "      <td>5.453655</td>\n",
       "    </tr>\n",
       "    <tr>\n",
       "      <th>AFFX-ThrX-M_at</th>\n",
       "      <th>nan</th>\n",
       "      <th>nan</th>\n",
       "      <td>6.962565</td>\n",
       "      <td>7.638344</td>\n",
       "      <td>8.114109</td>\n",
       "      <td>6.894282</td>\n",
       "    </tr>\n",
       "  </tbody>\n",
       "</table>\n",
       "<p>22888 rows × 4 columns</p>\n",
       "</div>"
      ],
      "text/plain": [
       "                                                      CFU        Int  \\\n",
       "ID_REF              Gene Symbol ENTREZ_GENE_ID                         \n",
       "1053_at             RFC2        5982             8.428814   7.797399   \n",
       "117_at              HSPA6       3310             5.838414   7.065860   \n",
       "121_at              PAX8        7849             7.183569   7.252154   \n",
       "1294_at             MIR5193     7318             7.133072   7.409423   \n",
       "1316_at             THRA        7067             6.677613   7.086486   \n",
       "...                                                   ...        ...   \n",
       "AFFX-r2-P1-cre-3_at nan         nan             13.110768  13.299282   \n",
       "AFFX-r2-P1-cre-5_at nan         nan             13.181870  13.327134   \n",
       "AFFX-ThrX-3_at      nan         nan              9.058028   9.545793   \n",
       "AFFX-ThrX-5_at      nan         nan              5.513117   5.860369   \n",
       "AFFX-ThrX-M_at      nan         nan              6.962565   7.638344   \n",
       "\n",
       "                                                     Late        Pro  \n",
       "ID_REF              Gene Symbol ENTREZ_GENE_ID                        \n",
       "1053_at             RFC2        5982             5.268096   8.394127  \n",
       "117_at              HSPA6       3310             7.910083   5.830218  \n",
       "121_at              PAX8        7849             7.770219   7.194605  \n",
       "1294_at             MIR5193     7318             6.497654   7.062021  \n",
       "1316_at             THRA        7067             8.047467   6.581211  \n",
       "...                                                   ...        ...  \n",
       "AFFX-r2-P1-cre-3_at nan         nan             13.267779  13.086157  \n",
       "AFFX-r2-P1-cre-5_at nan         nan             13.316122  13.141793  \n",
       "AFFX-ThrX-3_at      nan         nan             10.357162   8.886965  \n",
       "AFFX-ThrX-5_at      nan         nan              6.423776   5.453655  \n",
       "AFFX-ThrX-M_at      nan         nan              8.114109   6.894282  \n",
       "\n",
       "[22888 rows x 4 columns]"
      ]
     },
     "execution_count": 4,
     "metadata": {},
     "output_type": "execute_result"
    }
   ],
   "source": [
    "formated_data_frame"
   ]
  },
  {
   "cell_type": "code",
   "execution_count": 5,
   "metadata": {},
   "outputs": [
    {
     "data": {
      "text/plain": [
       "False"
      ]
     },
     "execution_count": 5,
     "metadata": {},
     "output_type": "execute_result"
    }
   ],
   "source": [
    "formated_data_frame.isna().any().any()"
   ]
  },
  {
   "cell_type": "markdown",
   "metadata": {},
   "source": [
    "b. Imputation of missing values is not needed because there is no missing values in the datafram"
   ]
  },
  {
   "cell_type": "markdown",
   "metadata": {},
   "source": [
    "c. Quantile normalisation to remove batch effect"
   ]
  },
  {
   "cell_type": "code",
   "execution_count": 6,
   "metadata": {},
   "outputs": [],
   "source": [
    "formated_data_frame.reset_index(['ID_REF', 'ENTREZ_GENE_ID'], inplace=True, drop=True)"
   ]
  },
  {
   "cell_type": "code",
   "execution_count": 7,
   "metadata": {},
   "outputs": [],
   "source": [
    "formated_data_frame.reset_index('Gene Symbol', inplace=True)"
   ]
  },
  {
   "cell_type": "code",
   "execution_count": 8,
   "metadata": {},
   "outputs": [],
   "source": [
    "formated_data_frame = formated_data_frame[list((formated_data_frame[formated_data_frame != 'nan']).notna()['Gene Symbol'].values)]"
   ]
  },
  {
   "cell_type": "code",
   "execution_count": 9,
   "metadata": {},
   "outputs": [],
   "source": [
    "formated_data_frame.set_index('Gene Symbol', inplace=True)"
   ]
  },
  {
   "cell_type": "code",
   "execution_count": 10,
   "metadata": {},
   "outputs": [
    {
     "data": {
      "text/html": [
       "<div>\n",
       "<style scoped>\n",
       "    .dataframe tbody tr th:only-of-type {\n",
       "        vertical-align: middle;\n",
       "    }\n",
       "\n",
       "    .dataframe tbody tr th {\n",
       "        vertical-align: top;\n",
       "    }\n",
       "\n",
       "    .dataframe thead th {\n",
       "        text-align: right;\n",
       "    }\n",
       "</style>\n",
       "<table border=\"1\" class=\"dataframe\">\n",
       "  <thead>\n",
       "    <tr style=\"text-align: right;\">\n",
       "      <th></th>\n",
       "      <th>CFU</th>\n",
       "      <th>Int</th>\n",
       "      <th>Late</th>\n",
       "      <th>Pro</th>\n",
       "    </tr>\n",
       "    <tr>\n",
       "      <th>Gene Symbol</th>\n",
       "      <th></th>\n",
       "      <th></th>\n",
       "      <th></th>\n",
       "      <th></th>\n",
       "    </tr>\n",
       "  </thead>\n",
       "  <tbody>\n",
       "    <tr>\n",
       "      <th>RFC2</th>\n",
       "      <td>8.316557</td>\n",
       "      <td>7.725953</td>\n",
       "      <td>5.642252</td>\n",
       "      <td>8.238732</td>\n",
       "    </tr>\n",
       "    <tr>\n",
       "      <th>HSPA6</th>\n",
       "      <td>5.736378</td>\n",
       "      <td>7.015665</td>\n",
       "      <td>8.273149</td>\n",
       "      <td>5.704984</td>\n",
       "    </tr>\n",
       "    <tr>\n",
       "      <th>PAX8</th>\n",
       "      <td>7.088659</td>\n",
       "      <td>7.195130</td>\n",
       "      <td>8.143391</td>\n",
       "      <td>7.065342</td>\n",
       "    </tr>\n",
       "    <tr>\n",
       "      <th>MIR5193</th>\n",
       "      <td>7.035765</td>\n",
       "      <td>7.344286</td>\n",
       "      <td>6.674461</td>\n",
       "      <td>6.944849</td>\n",
       "    </tr>\n",
       "    <tr>\n",
       "      <th>THRA</th>\n",
       "      <td>6.623133</td>\n",
       "      <td>7.035153</td>\n",
       "      <td>8.400083</td>\n",
       "      <td>6.511422</td>\n",
       "    </tr>\n",
       "    <tr>\n",
       "      <th>...</th>\n",
       "      <td>...</td>\n",
       "      <td>...</td>\n",
       "      <td>...</td>\n",
       "      <td>...</td>\n",
       "    </tr>\n",
       "    <tr>\n",
       "      <th>GAPDH</th>\n",
       "      <td>13.490629</td>\n",
       "      <td>12.768533</td>\n",
       "      <td>11.993449</td>\n",
       "      <td>13.277600</td>\n",
       "    </tr>\n",
       "    <tr>\n",
       "      <th>GAPDH</th>\n",
       "      <td>12.017020</td>\n",
       "      <td>11.349423</td>\n",
       "      <td>9.915780</td>\n",
       "      <td>11.978532</td>\n",
       "    </tr>\n",
       "    <tr>\n",
       "      <th>GAPDH</th>\n",
       "      <td>13.091035</td>\n",
       "      <td>12.329017</td>\n",
       "      <td>11.270733</td>\n",
       "      <td>12.945616</td>\n",
       "    </tr>\n",
       "    <tr>\n",
       "      <th>STAT1</th>\n",
       "      <td>8.893808</td>\n",
       "      <td>10.105013</td>\n",
       "      <td>8.274179</td>\n",
       "      <td>9.069562</td>\n",
       "    </tr>\n",
       "    <tr>\n",
       "      <th>STAT1</th>\n",
       "      <td>6.539821</td>\n",
       "      <td>6.840552</td>\n",
       "      <td>6.811633</td>\n",
       "      <td>6.426185</td>\n",
       "    </tr>\n",
       "  </tbody>\n",
       "</table>\n",
       "<p>20944 rows × 4 columns</p>\n",
       "</div>"
      ],
      "text/plain": [
       "                   CFU        Int       Late        Pro\n",
       "Gene Symbol                                            \n",
       "RFC2          8.316557   7.725953   5.642252   8.238732\n",
       "HSPA6         5.736378   7.015665   8.273149   5.704984\n",
       "PAX8          7.088659   7.195130   8.143391   7.065342\n",
       "MIR5193       7.035765   7.344286   6.674461   6.944849\n",
       "THRA          6.623133   7.035153   8.400083   6.511422\n",
       "...                ...        ...        ...        ...\n",
       "GAPDH        13.490629  12.768533  11.993449  13.277600\n",
       "GAPDH        12.017020  11.349423   9.915780  11.978532\n",
       "GAPDH        13.091035  12.329017  11.270733  12.945616\n",
       "STAT1         8.893808  10.105013   8.274179   9.069562\n",
       "STAT1         6.539821   6.840552   6.811633   6.426185\n",
       "\n",
       "[20944 rows x 4 columns]"
      ]
     },
     "execution_count": 10,
     "metadata": {},
     "output_type": "execute_result"
    }
   ],
   "source": [
    "# quantile normalization\n",
    "tmp = np.mean(np.sort(formated_data_frame.values, axis=0), axis=1)\n",
    "original_index = np.argsort(np.argsort(formated_data_frame.values, axis=0), axis=0)\n",
    "data_quantile_normalised = pd.DataFrame(tmp[original_index], index=formated_data_frame.index, columns=formated_data_frame.columns)\n",
    "data_quantile_normalised"
   ]
  },
  {
   "cell_type": "code",
   "execution_count": 11,
   "metadata": {},
   "outputs": [
    {
     "data": {
      "image/png": "[encoded data removed]",
      "text/plain": [
       "<Figure size 1080x1080 with 4 Axes>"
      ]
     },
     "metadata": {
      "needs_background": "light"
     },
     "output_type": "display_data"
    }
   ],
   "source": [
    "f, ax = plt.subplots(2,2, figsize=(15,15))\n",
    "\n",
    "ax[0,0].hist(data_quantile_normalised.iloc[:,0], bins=100)\n",
    "ax[0,1].hist(data_quantile_normalised.iloc[:,1], bins=100)\n",
    "ax[1,0].hist(data_quantile_normalised.iloc[:,2], bins=100)\n",
    "ax[1,1].hist(data_quantile_normalised.iloc[:,3], bins=100)\n",
    "plt.show()"
   ]
  },
  {
   "cell_type": "markdown",
   "metadata": {},
   "source": [
    "d. Summarise probes that are linked to the same gene by using the median; i.e. when multiple rows have the same gene label, make them a single row for that gene"
   ]
  },
  {
   "cell_type": "code",
   "execution_count": 12,
   "metadata": {},
   "outputs": [
    {
     "data": {
      "text/html": [
       "<div>\n",
       "<style scoped>\n",
       "    .dataframe tbody tr th:only-of-type {\n",
       "        vertical-align: middle;\n",
       "    }\n",
       "\n",
       "    .dataframe tbody tr th {\n",
       "        vertical-align: top;\n",
       "    }\n",
       "\n",
       "    .dataframe thead th {\n",
       "        text-align: right;\n",
       "    }\n",
       "</style>\n",
       "<table border=\"1\" class=\"dataframe\">\n",
       "  <thead>\n",
       "    <tr style=\"text-align: right;\">\n",
       "      <th></th>\n",
       "      <th>CFU</th>\n",
       "      <th>Int</th>\n",
       "      <th>Late</th>\n",
       "      <th>Pro</th>\n",
       "    </tr>\n",
       "    <tr>\n",
       "      <th>Gene Symbol</th>\n",
       "      <th></th>\n",
       "      <th></th>\n",
       "      <th></th>\n",
       "      <th></th>\n",
       "    </tr>\n",
       "  </thead>\n",
       "  <tbody>\n",
       "    <tr>\n",
       "      <th>A1BG-AS1</th>\n",
       "      <td>6.112539</td>\n",
       "      <td>6.220931</td>\n",
       "      <td>6.892030</td>\n",
       "      <td>6.091815</td>\n",
       "    </tr>\n",
       "    <tr>\n",
       "      <th>A4GALT</th>\n",
       "      <td>7.186654</td>\n",
       "      <td>7.387356</td>\n",
       "      <td>8.073196</td>\n",
       "      <td>7.510358</td>\n",
       "    </tr>\n",
       "    <tr>\n",
       "      <th>AAAS</th>\n",
       "      <td>7.823194</td>\n",
       "      <td>7.402945</td>\n",
       "      <td>7.417205</td>\n",
       "      <td>7.792582</td>\n",
       "    </tr>\n",
       "    <tr>\n",
       "      <th>AACS</th>\n",
       "      <td>7.527722</td>\n",
       "      <td>7.286827</td>\n",
       "      <td>7.270861</td>\n",
       "      <td>7.414133</td>\n",
       "    </tr>\n",
       "    <tr>\n",
       "      <th>AAED1</th>\n",
       "      <td>6.743789</td>\n",
       "      <td>5.373613</td>\n",
       "      <td>5.470805</td>\n",
       "      <td>6.529302</td>\n",
       "    </tr>\n",
       "    <tr>\n",
       "      <th>...</th>\n",
       "      <td>...</td>\n",
       "      <td>...</td>\n",
       "      <td>...</td>\n",
       "      <td>...</td>\n",
       "    </tr>\n",
       "    <tr>\n",
       "      <th>ZYX</th>\n",
       "      <td>6.457492</td>\n",
       "      <td>5.950081</td>\n",
       "      <td>6.743789</td>\n",
       "      <td>6.313909</td>\n",
       "    </tr>\n",
       "    <tr>\n",
       "      <th>ZZEF1</th>\n",
       "      <td>6.517973</td>\n",
       "      <td>6.374606</td>\n",
       "      <td>6.805477</td>\n",
       "      <td>6.357669</td>\n",
       "    </tr>\n",
       "    <tr>\n",
       "      <th>ZZZ3</th>\n",
       "      <td>8.601689</td>\n",
       "      <td>8.162945</td>\n",
       "      <td>8.271932</td>\n",
       "      <td>8.446459</td>\n",
       "    </tr>\n",
       "    <tr>\n",
       "      <th>hsa-let-7a-3</th>\n",
       "      <td>5.909118</td>\n",
       "      <td>6.233203</td>\n",
       "      <td>6.627924</td>\n",
       "      <td>5.821091</td>\n",
       "    </tr>\n",
       "    <tr>\n",
       "      <th>mir-223</th>\n",
       "      <td>6.698166</td>\n",
       "      <td>4.493315</td>\n",
       "      <td>5.874012</td>\n",
       "      <td>5.348846</td>\n",
       "    </tr>\n",
       "  </tbody>\n",
       "</table>\n",
       "<p>12407 rows × 4 columns</p>\n",
       "</div>"
      ],
      "text/plain": [
       "                    CFU       Int      Late       Pro\n",
       "Gene Symbol                                          \n",
       "A1BG-AS1       6.112539  6.220931  6.892030  6.091815\n",
       "A4GALT         7.186654  7.387356  8.073196  7.510358\n",
       "AAAS           7.823194  7.402945  7.417205  7.792582\n",
       "AACS           7.527722  7.286827  7.270861  7.414133\n",
       "AAED1          6.743789  5.373613  5.470805  6.529302\n",
       "...                 ...       ...       ...       ...\n",
       "ZYX            6.457492  5.950081  6.743789  6.313909\n",
       "ZZEF1          6.517973  6.374606  6.805477  6.357669\n",
       "ZZZ3           8.601689  8.162945  8.271932  8.446459\n",
       "hsa-let-7a-3   5.909118  6.233203  6.627924  5.821091\n",
       "mir-223        6.698166  4.493315  5.874012  5.348846\n",
       "\n",
       "[12407 rows x 4 columns]"
      ]
     },
     "execution_count": 12,
     "metadata": {},
     "output_type": "execute_result"
    }
   ],
   "source": [
    "data = data_quantile_normalised.groupby('Gene Symbol').median()\n",
    "data"
   ]
  },
  {
   "cell_type": "code",
   "execution_count": 19,
   "metadata": {},
   "outputs": [],
   "source": [
    "scaled_data = StandardScaler().fit_transform(data.T)"
   ]
  },
  {
   "cell_type": "code",
   "execution_count": 22,
   "metadata": {},
   "outputs": [
    {
     "data": {
      "image/png": "[encoded data removed]",
      "text/plain": [
       "<Figure size 432x288 with 1 Axes>"
      ]
     },
     "metadata": {
      "needs_background": "light"
     },
     "output_type": "display_data"
    }
   ],
   "source": [
    "pca = PCA()\n",
    "pca.fit(scaled_data)\n",
    "pca_data = pca.transform(scaled_data)\n",
    "per_var = np.round(pca.explained_variance_ratio_*100, decimals=1)\n",
    "labels = ['PC' + str(x) for x in range(1, len(per_var)+1)]\n",
    "# create a bar plot\n",
    "plt.bar(x=range(1, len(per_var)+1), height=per_var, tick_label=labels)\n",
    "plt.ylabel('Percentage of Explained Variance')\n",
    "plt.xlabel('Principal Component')\n",
    "plt.title('Scree Plot')\n",
    "plt.show()"
   ]
  },
  {
   "cell_type": "code",
   "execution_count": 23,
   "metadata": {},
   "outputs": [
    {
     "data": {
      "image/png": "[encoded data removed]",
      "text/plain": [
       "<Figure size 432x288 with 1 Axes>"
      ]
     },
     "metadata": {
      "needs_background": "light"
     },
     "output_type": "display_data"
    }
   ],
   "source": [
    "pca_df = pd.DataFrame(pca_data, index=data.columns, columns=labels)\n",
    "plt.scatter(pca_df.PC1, pca_df.PC2)\n",
    "plt.title('PCA')\n",
    "plt.xlabel('PC1 - %{}'.format(per_var[0]))\n",
    "plt.ylabel('PC2 - %{}'.format(per_var[1]))\n",
    "for sample in pca_df.index:\n",
    "  plt.annotate(sample, (pca_df.PC1.loc[sample], pca_df.PC2.loc[sample]))\n",
    "plt.show()\n"
   ]
  },
  {
   "cell_type": "code",
   "execution_count": 41,
   "metadata": {},
   "outputs": [
    {
     "data": {
      "text/plain": [
       "array([[-0.65982757, -1.07169694,  1.07501535, ...,  1.38000828,\n",
       "        -0.75345515,  1.36587301],\n",
       "       [-0.32992237, -0.4619188 , -1.03398328, ..., -1.24184112,\n",
       "         0.26945042, -1.38545016],\n",
       "       [ 1.71265499,  1.62182485, -0.96242334, ..., -0.59055396,\n",
       "         1.51529957,  0.33745239],\n",
       "       [-0.72290504, -0.08820912,  0.92139128, ...,  0.45238679,\n",
       "        -1.03129483, -0.31787525]])"
      ]
     },
     "execution_count": 41,
     "metadata": {},
     "output_type": "execute_result"
    }
   ],
   "source": [
    "df = data.T\n",
    "features = df.columns.values\n",
    "y = df.index.values\n",
    "x = df.loc[:, features].values\n",
    "x = StandardScaler().fit_transform(x)"
   ]
  },
  {
   "cell_type": "code",
   "execution_count": 46,
   "metadata": {},
   "outputs": [],
   "source": [
    "df.reset_index(inplace=True)"
   ]
  },
  {
   "cell_type": "code",
   "execution_count": 51,
   "metadata": {},
   "outputs": [
    {
     "data": {
      "text/html": [
       "<div>\n",
       "<style scoped>\n",
       "    .dataframe tbody tr th:only-of-type {\n",
       "        vertical-align: middle;\n",
       "    }\n",
       "\n",
       "    .dataframe tbody tr th {\n",
       "        vertical-align: top;\n",
       "    }\n",
       "\n",
       "    .dataframe thead th {\n",
       "        text-align: right;\n",
       "    }\n",
       "</style>\n",
       "<table border=\"1\" class=\"dataframe\">\n",
       "  <thead>\n",
       "    <tr style=\"text-align: right;\">\n",
       "      <th>Gene Symbol</th>\n",
       "      <th>Genes</th>\n",
       "      <th>A1BG-AS1</th>\n",
       "      <th>A4GALT</th>\n",
       "      <th>AAAS</th>\n",
       "      <th>AACS</th>\n",
       "      <th>AAED1</th>\n",
       "      <th>AAGAB</th>\n",
       "      <th>AAK1</th>\n",
       "      <th>AAMDC</th>\n",
       "      <th>AAMP</th>\n",
       "      <th>...</th>\n",
       "      <th>ZWILCH</th>\n",
       "      <th>ZWINT</th>\n",
       "      <th>ZXDB</th>\n",
       "      <th>ZXDC</th>\n",
       "      <th>ZYG11B</th>\n",
       "      <th>ZYX</th>\n",
       "      <th>ZZEF1</th>\n",
       "      <th>ZZZ3</th>\n",
       "      <th>hsa-let-7a-3</th>\n",
       "      <th>mir-223</th>\n",
       "    </tr>\n",
       "  </thead>\n",
       "  <tbody>\n",
       "    <tr>\n",
       "      <th>0</th>\n",
       "      <td>CFU</td>\n",
       "      <td>6.112539</td>\n",
       "      <td>7.186654</td>\n",
       "      <td>7.823194</td>\n",
       "      <td>7.527722</td>\n",
       "      <td>6.743789</td>\n",
       "      <td>7.271689</td>\n",
       "      <td>6.691704</td>\n",
       "      <td>7.242769</td>\n",
       "      <td>8.437946</td>\n",
       "      <td>...</td>\n",
       "      <td>9.651354</td>\n",
       "      <td>12.002283</td>\n",
       "      <td>5.519769</td>\n",
       "      <td>5.974309</td>\n",
       "      <td>8.395431</td>\n",
       "      <td>6.457492</td>\n",
       "      <td>6.517973</td>\n",
       "      <td>8.601689</td>\n",
       "      <td>5.909118</td>\n",
       "      <td>6.698166</td>\n",
       "    </tr>\n",
       "    <tr>\n",
       "      <th>1</th>\n",
       "      <td>Int</td>\n",
       "      <td>6.220931</td>\n",
       "      <td>7.387356</td>\n",
       "      <td>7.402945</td>\n",
       "      <td>7.286827</td>\n",
       "      <td>5.373613</td>\n",
       "      <td>7.221843</td>\n",
       "      <td>6.510989</td>\n",
       "      <td>6.967792</td>\n",
       "      <td>7.643105</td>\n",
       "      <td>...</td>\n",
       "      <td>9.602923</td>\n",
       "      <td>11.859736</td>\n",
       "      <td>5.605683</td>\n",
       "      <td>6.719159</td>\n",
       "      <td>8.822174</td>\n",
       "      <td>5.950081</td>\n",
       "      <td>6.374606</td>\n",
       "      <td>8.162945</td>\n",
       "      <td>6.233203</td>\n",
       "      <td>4.493315</td>\n",
       "    </tr>\n",
       "    <tr>\n",
       "      <th>2</th>\n",
       "      <td>Late</td>\n",
       "      <td>6.892030</td>\n",
       "      <td>8.073196</td>\n",
       "      <td>7.417205</td>\n",
       "      <td>7.270861</td>\n",
       "      <td>5.470805</td>\n",
       "      <td>6.382957</td>\n",
       "      <td>8.359987</td>\n",
       "      <td>7.232786</td>\n",
       "      <td>9.118262</td>\n",
       "      <td>...</td>\n",
       "      <td>7.246273</td>\n",
       "      <td>9.151265</td>\n",
       "      <td>4.962931</td>\n",
       "      <td>6.753002</td>\n",
       "      <td>7.910095</td>\n",
       "      <td>6.743789</td>\n",
       "      <td>6.805477</td>\n",
       "      <td>8.271932</td>\n",
       "      <td>6.627924</td>\n",
       "      <td>5.874012</td>\n",
       "    </tr>\n",
       "    <tr>\n",
       "      <th>3</th>\n",
       "      <td>Pro</td>\n",
       "      <td>6.091815</td>\n",
       "      <td>7.510358</td>\n",
       "      <td>7.792582</td>\n",
       "      <td>7.414133</td>\n",
       "      <td>6.529302</td>\n",
       "      <td>7.175501</td>\n",
       "      <td>6.741949</td>\n",
       "      <td>7.312508</td>\n",
       "      <td>8.055142</td>\n",
       "      <td>...</td>\n",
       "      <td>9.674264</td>\n",
       "      <td>11.812375</td>\n",
       "      <td>5.672725</td>\n",
       "      <td>6.015016</td>\n",
       "      <td>8.578369</td>\n",
       "      <td>6.313909</td>\n",
       "      <td>6.357669</td>\n",
       "      <td>8.446459</td>\n",
       "      <td>5.821091</td>\n",
       "      <td>5.348846</td>\n",
       "    </tr>\n",
       "  </tbody>\n",
       "</table>\n",
       "<p>4 rows × 12408 columns</p>\n",
       "</div>"
      ],
      "text/plain": [
       "Gene Symbol Genes  A1BG-AS1    A4GALT      AAAS      AACS     AAED1     AAGAB  \\\n",
       "0             CFU  6.112539  7.186654  7.823194  7.527722  6.743789  7.271689   \n",
       "1             Int  6.220931  7.387356  7.402945  7.286827  5.373613  7.221843   \n",
       "2            Late  6.892030  8.073196  7.417205  7.270861  5.470805  6.382957   \n",
       "3             Pro  6.091815  7.510358  7.792582  7.414133  6.529302  7.175501   \n",
       "\n",
       "Gene Symbol      AAK1     AAMDC      AAMP  ...    ZWILCH      ZWINT      ZXDB  \\\n",
       "0            6.691704  7.242769  8.437946  ...  9.651354  12.002283  5.519769   \n",
       "1            6.510989  6.967792  7.643105  ...  9.602923  11.859736  5.605683   \n",
       "2            8.359987  7.232786  9.118262  ...  7.246273   9.151265  4.962931   \n",
       "3            6.741949  7.312508  8.055142  ...  9.674264  11.812375  5.672725   \n",
       "\n",
       "Gene Symbol      ZXDC    ZYG11B       ZYX     ZZEF1      ZZZ3  hsa-let-7a-3   \\\n",
       "0            5.974309  8.395431  6.457492  6.517973  8.601689       5.909118   \n",
       "1            6.719159  8.822174  5.950081  6.374606  8.162945       6.233203   \n",
       "2            6.753002  7.910095  6.743789  6.805477  8.271932       6.627924   \n",
       "3            6.015016  8.578369  6.313909  6.357669  8.446459       5.821091   \n",
       "\n",
       "Gene Symbol   mir-223  \n",
       "0            6.698166  \n",
       "1            4.493315  \n",
       "2            5.874012  \n",
       "3            5.348846  \n",
       "\n",
       "[4 rows x 12408 columns]"
      ]
     },
     "execution_count": 51,
     "metadata": {},
     "output_type": "execute_result"
    }
   ],
   "source": [
    "df.rename(columns={'index': 'Genes'}, inplace=True)\n",
    "df"
   ]
  },
  {
   "cell_type": "code",
   "execution_count": 52,
   "metadata": {},
   "outputs": [],
   "source": [
    "pca2 = PCA(n_components=2)\n",
    "pcs = pca2.fit_transform(x)\n",
    "pc_df = pd.DataFrame(data=pcs, columns=['PC1', 'PC2'])\n",
    "findal_df = pd.concat([pc_df, df[['Genes']]], axis=1)"
   ]
  },
  {
   "cell_type": "code",
   "execution_count": 53,
   "metadata": {},
   "outputs": [
    {
     "data": {
      "text/html": [
       "<div>\n",
       "<style scoped>\n",
       "    .dataframe tbody tr th:only-of-type {\n",
       "        vertical-align: middle;\n",
       "    }\n",
       "\n",
       "    .dataframe tbody tr th {\n",
       "        vertical-align: top;\n",
       "    }\n",
       "\n",
       "    .dataframe thead th {\n",
       "        text-align: right;\n",
       "    }\n",
       "</style>\n",
       "<table border=\"1\" class=\"dataframe\">\n",
       "  <thead>\n",
       "    <tr style=\"text-align: right;\">\n",
       "      <th></th>\n",
       "      <th>PC1</th>\n",
       "      <th>PC2</th>\n",
       "      <th>Genes</th>\n",
       "    </tr>\n",
       "  </thead>\n",
       "  <tbody>\n",
       "    <tr>\n",
       "      <th>0</th>\n",
       "      <td>-66.624058</td>\n",
       "      <td>-53.101432</td>\n",
       "      <td>CFU</td>\n",
       "    </tr>\n",
       "    <tr>\n",
       "      <th>1</th>\n",
       "      <td>-22.082434</td>\n",
       "      <td>97.145905</td>\n",
       "      <td>Int</td>\n",
       "    </tr>\n",
       "    <tr>\n",
       "      <th>2</th>\n",
       "      <td>157.344996</td>\n",
       "      <td>-19.540195</td>\n",
       "      <td>Late</td>\n",
       "    </tr>\n",
       "    <tr>\n",
       "      <th>3</th>\n",
       "      <td>-68.638504</td>\n",
       "      <td>-24.504278</td>\n",
       "      <td>Pro</td>\n",
       "    </tr>\n",
       "  </tbody>\n",
       "</table>\n",
       "</div>"
      ],
      "text/plain": [
       "          PC1        PC2 Genes\n",
       "0  -66.624058 -53.101432   CFU\n",
       "1  -22.082434  97.145905   Int\n",
       "2  157.344996 -19.540195  Late\n",
       "3  -68.638504 -24.504278   Pro"
      ]
     },
     "execution_count": 53,
     "metadata": {},
     "output_type": "execute_result"
    }
   ],
   "source": [
    "findal_df"
   ]
  },
  {
   "cell_type": "code",
   "execution_count": 54,
   "metadata": {},
   "outputs": [
    {
     "data": {
      "image/png": "[encoded data removed]",
      "text/plain": [
       "<Figure size 720x720 with 1 Axes>"
      ]
     },
     "metadata": {
      "needs_background": "light"
     },
     "output_type": "display_data"
    }
   ],
   "source": [
    "fig = plt.figure(figsize=(10,10))\n",
    "ax = fig.add_subplot(1,1,1)\n",
    "ax.set_xlabel('PC1 - %{}'.format(per_var[0]), fontsize=15)\n",
    "ax.set_ylabel('PC2 - %{}'.format(per_var[1]), fontsize=15)\n",
    "ax.set_title('2 Component PCA', fontsize=20)\n",
    "colors = ['r', 'g', 'b', 'm']\n",
    "targeets = y\n",
    "for target, color in zip(targeets, colors):\n",
    "  indices_to_keep = findal_df['Genes'] == target\n",
    "  ax.scatter(findal_df.loc[indices_to_keep, 'PC1']\n",
    "             , findal_df.loc[indices_to_keep, 'PC2']\n",
    "             , c=color\n",
    "             , s=50)\n",
    "ax.legend(targeets)\n",
    "ax.grid()"
   ]
  }
 ],
 "metadata": {
  "interpreter": {
   "hash": "98590ff4fe04c8543246b2a01debd3de3c5ca9b666f43f1fa87d5110c692004c"
  },
  "kernelspec": {
   "display_name": "Python 3.10.4 64-bit",
   "language": "python",
   "name": "python3"
  },
  "language_info": {
   "codemirror_mode": {
    "name": "ipython",
    "version": 3
   },
   "file_extension": ".py",
   "mimetype": "text/x-python",
   "name": "python",
   "nbconvert_exporter": "python",
   "pygments_lexer": "ipython3",
   "version": "3.10.4"
  },
  "orig_nbformat": 4
 },
 "nbformat": 4,
 "nbformat_minor": 2
}
